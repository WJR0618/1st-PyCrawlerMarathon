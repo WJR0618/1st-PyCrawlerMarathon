{
 "cells": [
  {
   "cell_type": "markdown",
   "metadata": {},
   "source": [
    "# Python 下載XML檔案與解析\n",
    "\n",
    "\n",
    "* 了解 xml 檔案格式與內容\n",
    "* 能夠利用套件存取 xml 格式的檔案\n"
   ]
  },
  {
   "cell_type": "markdown",
   "metadata": {},
   "source": [
    "## 作業目標\n",
    "\n",
    "* 比較一下範例檔案中的「File I/O」與「xmltodict」讀出來的內容有什麼差異\n",
    "\n",
    "* 根據範例檔案的結果：\n",
    "    1. 請問高雄市有多少地區有溫度資料？\n",
    "    2. 請取出每一個地區所記錄的第一個時間點跟溫度\n",
    "    3. 請取出第一個地區所記錄的每一個時間點跟溫度"
   ]
  },
  {
   "cell_type": "markdown",
   "metadata": {},
   "source": [
    "### 比較一下範例檔案中的「File I/O」與「xmltodict」讀出來的內容有什麼差異\n"
   ]
  },
  {
   "cell_type": "markdown",
   "metadata": {},
   "source": [
    "File I/O 讀出來就是原始檔案內容\n",
    "\n",
    "xmltodict 讀出來已轉為Dict格式，容易在 Python 中操作"
   ]
  },
  {
   "cell_type": "markdown",
   "metadata": {},
   "source": [
    "### 根據範例檔案的結果：\n",
    "\n",
    "1. 請問高雄市有多少地區有溫度資料？\n",
    "2. 請取出每一個地區所記錄的第一個時間點跟溫度\n",
    "3. 請取出第一個地區所記錄的每一個時間點跟溫度"
   ]
  },
  {
   "cell_type": "code",
   "execution_count": 1,
   "metadata": {},
   "outputs": [],
   "source": [
    "import urllib.request\n",
    "import zipfile\n",
    "\n",
    "res = \"http://opendata.cwb.gov.tw/govdownload?dataid=F-D0047-093&authorizationkey=rdec-key-123-45678-011121314\"\n",
    "urllib.request.urlretrieve(res, \"./data/example.zip\")\n",
    "f = zipfile.ZipFile('./data/example.zip')\n",
    "f.extractall('./data')"
   ]
  },
  {
   "cell_type": "code",
   "execution_count": 7,
   "metadata": {},
   "outputs": [
    {
     "name": "stdout",
     "output_type": "stream",
     "text": [
      "高雄市有溫度資料的區域共有:38個\n",
      "分別如下:\n",
      "鹽埕區\n",
      "鼓山區\n",
      "左營區\n",
      "楠梓區\n",
      "三民區\n",
      "新興區\n",
      "前金區\n",
      "苓雅區\n",
      "前鎮區\n",
      "旗津區\n",
      "小港區\n",
      "鳳山區\n",
      "林園區\n",
      "大寮區\n",
      "大樹區\n",
      "大社區\n",
      "仁武區\n",
      "鳥松區\n",
      "岡山區\n",
      "橋頭區\n",
      "燕巢區\n",
      "田寮區\n",
      "阿蓮區\n",
      "路竹區\n",
      "湖內區\n",
      "茄萣區\n",
      "永安區\n",
      "彌陀區\n",
      "梓官區\n",
      "旗山區\n",
      "美濃區\n",
      "六龜區\n",
      "甲仙區\n",
      "杉林區\n",
      "內門區\n",
      "茂林區\n",
      "桃源區\n",
      "那瑪夏區\n"
     ]
    }
   ],
   "source": [
    "# 1. 請問高雄市有多少地區有溫度資料？\n",
    "\n",
    "import os, sys\n",
    "\n",
    "# 打开文件\n",
    "dirs = os.listdir( './data' )\n",
    "fh = open(\"./data/64_72hr_CH.xml\", \"r\",encoding=\"utf-8\", newline='')\n",
    "xml = fh.read()\n",
    "fh.close()\n",
    "# 解析檔案內容\n",
    "\n",
    "import xmltodict\n",
    "d = dict(xmltodict.parse(xml))\n",
    "areas = d['cwbopendata']['dataset']['locations']['location']\n",
    "print('高雄市有溫度資料的區域共有:' + str(len(areas)) + '個\\n分別如下:')\n",
    "for area in areas:\n",
    "    print(area['locationName'])"
   ]
  },
  {
   "cell_type": "code",
   "execution_count": 59,
   "metadata": {},
   "outputs": [
    {
     "name": "stdout",
     "output_type": "stream",
     "text": [
      "高雄市有溫度資料的區域共有:38個\n",
      "分別如下:\n",
      "鹽埕區 2020-02-06T12:00:00+08:00 溫度: 22 度C\n",
      "鼓山區 2020-02-06T12:00:00+08:00 溫度: 22 度C\n",
      "左營區 2020-02-06T12:00:00+08:00 溫度: 22 度C\n",
      "楠梓區 2020-02-06T12:00:00+08:00 溫度: 23 度C\n",
      "三民區 2020-02-06T12:00:00+08:00 溫度: 22 度C\n",
      "新興區 2020-02-06T12:00:00+08:00 溫度: 23 度C\n",
      "前金區 2020-02-06T12:00:00+08:00 溫度: 22 度C\n",
      "苓雅區 2020-02-06T12:00:00+08:00 溫度: 23 度C\n",
      "前鎮區 2020-02-06T12:00:00+08:00 溫度: 23 度C\n",
      "旗津區 2020-02-06T12:00:00+08:00 溫度: 23 度C\n",
      "小港區 2020-02-06T12:00:00+08:00 溫度: 24 度C\n",
      "鳳山區 2020-02-06T12:00:00+08:00 溫度: 24 度C\n",
      "林園區 2020-02-06T12:00:00+08:00 溫度: 24 度C\n",
      "大寮區 2020-02-06T12:00:00+08:00 溫度: 24 度C\n",
      "大樹區 2020-02-06T12:00:00+08:00 溫度: 25 度C\n",
      "大社區 2020-02-06T12:00:00+08:00 溫度: 23 度C\n",
      "仁武區 2020-02-06T12:00:00+08:00 溫度: 23 度C\n",
      "鳥松區 2020-02-06T12:00:00+08:00 溫度: 24 度C\n",
      "岡山區 2020-02-06T12:00:00+08:00 溫度: 23 度C\n",
      "橋頭區 2020-02-06T12:00:00+08:00 溫度: 23 度C\n",
      "燕巢區 2020-02-06T12:00:00+08:00 溫度: 24 度C\n",
      "田寮區 2020-02-06T12:00:00+08:00 溫度: 24 度C\n",
      "阿蓮區 2020-02-06T12:00:00+08:00 溫度: 23 度C\n",
      "路竹區 2020-02-06T12:00:00+08:00 溫度: 23 度C\n",
      "湖內區 2020-02-06T12:00:00+08:00 溫度: 22 度C\n",
      "茄萣區 2020-02-06T12:00:00+08:00 溫度: 22 度C\n",
      "永安區 2020-02-06T12:00:00+08:00 溫度: 22 度C\n",
      "彌陀區 2020-02-06T12:00:00+08:00 溫度: 22 度C\n",
      "梓官區 2020-02-06T12:00:00+08:00 溫度: 22 度C\n",
      "旗山區 2020-02-06T12:00:00+08:00 溫度: 25 度C\n",
      "美濃區 2020-02-06T12:00:00+08:00 溫度: 26 度C\n",
      "六龜區 2020-02-06T12:00:00+08:00 溫度: 25 度C\n",
      "甲仙區 2020-02-06T12:00:00+08:00 溫度: 26 度C\n",
      "杉林區 2020-02-06T12:00:00+08:00 溫度: 26 度C\n",
      "內門區 2020-02-06T12:00:00+08:00 溫度: 25 度C\n",
      "茂林區 2020-02-06T12:00:00+08:00 溫度: 25 度C\n",
      "桃源區 2020-02-06T12:00:00+08:00 溫度: 24 度C\n",
      "那瑪夏區 2020-02-06T12:00:00+08:00 溫度: 22 度C\n"
     ]
    }
   ],
   "source": [
    "# 2. 請取出每一個地區所記錄的第一個時間點跟溫度\n",
    "print('高雄市有溫度資料的區域共有:' + str(len(areas)) + '個\\n分別如下:')\n",
    "for area in areas:\n",
    "    print(area['locationName'] \\\n",
    "          + ' ' + area['weatherElement'][0]['time'][0]['dataTime'] \\\n",
    "          + ' 溫度: ' + area['weatherElement'][0]['time'][0]['elementValue']['value'] + ' 度C' )"
   ]
  },
  {
   "cell_type": "code",
   "execution_count": 63,
   "metadata": {},
   "outputs": [
    {
     "name": "stdout",
     "output_type": "stream",
     "text": [
      "鹽埕區\n",
      "2020-02-06T12:00:00+08:00 溫度: 22 度C\n",
      "2020-02-06T15:00:00+08:00 溫度: 23 度C\n",
      "2020-02-06T18:00:00+08:00 溫度: 22 度C\n",
      "2020-02-06T21:00:00+08:00 溫度: 20 度C\n",
      "2020-02-07T00:00:00+08:00 溫度: 19 度C\n",
      "2020-02-07T03:00:00+08:00 溫度: 18 度C\n",
      "2020-02-07T06:00:00+08:00 溫度: 18 度C\n",
      "2020-02-07T09:00:00+08:00 溫度: 20 度C\n",
      "2020-02-07T12:00:00+08:00 溫度: 25 度C\n",
      "2020-02-07T15:00:00+08:00 溫度: 26 度C\n",
      "2020-02-07T18:00:00+08:00 溫度: 24 度C\n",
      "2020-02-07T21:00:00+08:00 溫度: 21 度C\n",
      "2020-02-08T00:00:00+08:00 溫度: 19 度C\n",
      "2020-02-08T03:00:00+08:00 溫度: 17 度C\n",
      "2020-02-08T06:00:00+08:00 溫度: 16 度C\n",
      "2020-02-08T09:00:00+08:00 溫度: 18 度C\n",
      "2020-02-08T12:00:00+08:00 溫度: 23 度C\n",
      "2020-02-08T15:00:00+08:00 溫度: 24 度C\n",
      "2020-02-08T18:00:00+08:00 溫度: 22 度C\n",
      "2020-02-08T21:00:00+08:00 溫度: 20 度C\n",
      "2020-02-09T00:00:00+08:00 溫度: 18 度C\n",
      "2020-02-09T03:00:00+08:00 溫度: 17 度C\n",
      "2020-02-09T06:00:00+08:00 溫度: 16 度C\n",
      "2020-02-09T09:00:00+08:00 溫度: 18 度C\n"
     ]
    }
   ],
   "source": [
    "# 3. 請取出第一個地區所記錄的每一個時間點跟溫度\n",
    "#print('高雄市有溫度資料的區域共有:' + str(len(areas)) + '個\\n分別如下:')\n",
    "print(areas[0]['locationName'])\n",
    "times = areas[0]['weatherElement'][0]['time']\n",
    "for time in times:\n",
    "    print(time['dataTime'] + ' 溫度: ' + time['elementValue']['value'] + ' 度C')\n",
    "#for weatherElement in areas[0]:\n",
    "    "
   ]
  },
  {
   "cell_type": "code",
   "execution_count": null,
   "metadata": {},
   "outputs": [],
   "source": []
  }
 ],
 "metadata": {
  "kernelspec": {
   "display_name": "Python 3",
   "language": "python",
   "name": "python3"
  },
  "language_info": {
   "codemirror_mode": {
    "name": "ipython",
    "version": 3
   },
   "file_extension": ".py",
   "mimetype": "text/x-python",
   "name": "python",
   "nbconvert_exporter": "python",
   "pygments_lexer": "ipython3",
   "version": "3.7.3"
  }
 },
 "nbformat": 4,
 "nbformat_minor": 2
}
