{
 "cells": [
  {
   "cell_type": "markdown",
   "metadata": {},
   "source": [
    "# API 資料串接 - 以 Dcard API 實作範例\n",
    "\n",
    "* 了解 Dcard API 使用方式與回傳內容\n",
    "* 撰寫程式存取 API 且解析 JSON 格式資料\n"
   ]
  },
  {
   "cell_type": "markdown",
   "metadata": {},
   "source": [
    "## 作業目標\n",
    "\n",
    "* 請利用 API: https://www.dcard.tw/_api/forums/pet/posts?popular=true 回答下列問題：\n",
    "\n",
    "1. 這個 API 一次會回傳幾筆資料？每一筆資料包含哪些欄位？\n",
    "2. 取出每一筆資料的「標題」、「貼文時間」、「留言人數」、「按讚人數」\n",
    "3. 計算熱門/非熱門文章的「平均留言人數」與「平均按讚人數」"
   ]
  },
  {
   "cell_type": "code",
   "execution_count": 26,
   "metadata": {},
   "outputs": [
    {
     "name": "stdout",
     "output_type": "stream",
     "text": [
      "這個 API 一次會回傳30筆資料\n",
      "每一筆資料包含以下欄位:\n",
      "id\n",
      "title\n",
      "excerpt\n",
      "anonymousSchool\n",
      "anonymousDepartment\n",
      "pinned\n",
      "forumId\n",
      "replyId\n",
      "createdAt\n",
      "updatedAt\n",
      "commentCount\n",
      "likeCount\n",
      "withNickname\n",
      "tags\n",
      "topics\n",
      "meta\n",
      "forumName\n",
      "forumAlias\n",
      "gender\n",
      "school\n",
      "replyTitle\n",
      "mediaMeta\n",
      "reactions\n",
      "hidden\n",
      "customStyle\n",
      "isSuspiciousAccount\n",
      "layout\n",
      "withImages\n",
      "withVideos\n",
      "media\n",
      "reportReasonText\n",
      "postAvatar\n"
     ]
    }
   ],
   "source": [
    "# 1. 這個 API 一次會回傳幾筆資料？每一筆資料包含哪些欄位？\n",
    "\n",
    "import requests\n",
    "import json\n",
    "r = requests.get('https://www.dcard.tw/_api/forums/pet/posts?popular=true')\n",
    "response = r.text\n",
    "#print(response)\n",
    "data = json.loads(response)\n",
    "print('這個 API 一次會回傳' + str(len(data)) + '筆資料')\n",
    "print('每一筆資料包含以下欄位:')\n",
    "for field in list(data[0].keys()):\n",
    "    print(field)\n"
   ]
  },
  {
   "cell_type": "code",
   "execution_count": 33,
   "metadata": {},
   "outputs": [
    {
     "name": "stdout",
     "output_type": "stream",
     "text": [
      "戴頭套就氣噗噗～ 2020-02-06T14:57:09.089Z 29 380\n",
      "救起一隻小貓 2020-02-06T05:18:46.329Z 13 378\n",
      "和路邊的貓確認過眼神後( ´▽｀) 2020-02-06T12:26:27.332Z 5 60\n",
      "鏡頭髒了 我擦一下 2020-02-06T14:06:19.854Z 0 30\n",
      "只是想給你們看看我家的貓🐱 2020-02-06T08:35:55.202Z 0 26\n",
      "療育小寵物 2020-02-06T01:55:48.700Z 7 26\n",
      "貓咪結紮完該注意些甚麼？ 2020-02-06T02:37:48.519Z 8 13\n",
      "自己走進我住處的橘貓 2020-02-06T03:16:25.050Z 0 12\n",
      "玄鳳該如何培養感情 2020-02-06T13:12:44.312Z 2 11\n",
      "#圖 這種貓你們會繼續養嗎？ 2020-02-06T03:57:12.426Z 7 9\n",
      "胖雪公主與8肥貓（圖多） 2020-02-06T11:07:18.064Z 2 8\n",
      "愛吃香蕉的貓咪？！ 2020-02-06T09:03:37.564Z 2 7\n",
      "開門前要敲門 2020-02-07T03:08:00.356Z 3 6\n",
      "愛撒嬌的貓咪 2020-02-06T14:37:19.890Z 3 6\n",
      "領養貓咪！ 2020-02-06T14:17:14.672Z 11 5\n",
      "我家的貓在是嫌自己大便太臭嗎？ 2020-02-06T14:03:35.275Z 2 5\n",
      "貓咪的某些行為 2020-02-06T00:52:41.724Z 5 4\n",
      "#問 怎麼才能讓成貓會用貓砂盆？ 2020-02-05T21:12:21.610Z 4 4\n",
      "oh怎麼開始習慣的～ 2020-02-06T16:43:49.333Z 1 3\n",
      "想問大家一個人住外面都養什麼寵物 2020-02-06T11:57:52.562Z 14 3\n",
      "送養貓咪 2020-02-07T05:20:27.067Z 4 2\n",
      "養貓新手請益 2020-02-07T00:21:07.610Z 4 2\n",
      "#文長 我的小鼠鼠告訴我的事 2020-02-06T18:10:30.286Z 2 2\n",
      "過敏兒飼料推薦 2020-02-06T06:11:44.931Z 3 2\n",
      "貓咪不聽話 2020-02-06T03:46:26.107Z 9 2\n",
      "結紮罕見案例（分享） 2020-02-07T06:37:27.757Z 1 1\n",
      "結果他跟我這樣睡覺（內有圖片會引發不適 2020-02-07T05:00:44.437Z 5 1\n",
      "愛撒嬌的蛋 2020-02-07T04:42:20.983Z 0 1\n",
      "貓咪外出包 2020-02-07T04:31:32.180Z 5 1\n",
      "想念家裡的狗狗 2020-02-06T13:14:49.919Z 1 1\n"
     ]
    }
   ],
   "source": [
    "# 2. 取出每一筆資料的「標題」、「貼文時間」、「留言人數」、「按讚人數」\n",
    "\n",
    "for d in data:\n",
    "    print(d['title'] + ' ' + d['createdAt'] + ' ' + str(d['commentCount']) +  ' ' + str(d['likeCount']))"
   ]
  },
  {
   "cell_type": "code",
   "execution_count": 48,
   "metadata": {},
   "outputs": [
    {
     "name": "stdout",
     "output_type": "stream",
     "text": [
      "熱門文章\n",
      "\n",
      "平均留言人數:5.033333333333333  平均按讚人數:67.06666666666666\n",
      "\n",
      "非熱門文章\n",
      "\n",
      "平均留言人數:1.9  平均按讚人數:3.566666666666667\n"
     ]
    }
   ],
   "source": [
    "# 3. 計算熱門/非熱門文章的「平均留言人數」與「平均按讚人數」\n",
    "\n",
    "r = requests.get('https://www.dcard.tw/_api/forums/pet/posts?popular=true')\n",
    "response = r.text\n",
    "#print(response)\n",
    "data = json.loads(response)\n",
    "print('熱門文章\\n')\n",
    "all_commentCount = 0\n",
    "all_likeCount = 0\n",
    "for d in data:\n",
    "    all_commentCount = all_commentCount + d['commentCount']\n",
    "    all_likeCount = all_likeCount + d['likeCount']\n",
    "    #print(d['title'])\n",
    "print('平均留言人數:' + str(all_commentCount/len(data)) + '  平均按讚人數:' + str(all_likeCount/len(data)))    \n",
    "    \n",
    "print()\n",
    "\n",
    "all_commentCount = 0\n",
    "all_likeCount = 0\n",
    "r = requests.get('https://www.dcard.tw/_api/forums/pet/posts?popular=false')\n",
    "response = r.text\n",
    "#print(response)\n",
    "data = json.loads(response)\n",
    "print('非熱門文章\\n')\n",
    "for d in data:\n",
    "    all_commentCount = all_commentCount + d['commentCount']\n",
    "    all_likeCount = all_likeCount + d['likeCount']\n",
    "    #print(d['title'])\n",
    "print('平均留言人數:' + str(all_commentCount/len(data)) + '  平均按讚人數:' + str(all_likeCount/len(data)))   \n",
    "\n"
   ]
  },
  {
   "cell_type": "code",
   "execution_count": null,
   "metadata": {},
   "outputs": [],
   "source": []
  },
  {
   "cell_type": "code",
   "execution_count": null,
   "metadata": {},
   "outputs": [],
   "source": []
  }
 ],
 "metadata": {
  "kernelspec": {
   "display_name": "Python 3",
   "language": "python",
   "name": "python3"
  },
  "language_info": {
   "codemirror_mode": {
    "name": "ipython",
    "version": 3
   },
   "file_extension": ".py",
   "mimetype": "text/x-python",
   "name": "python",
   "nbconvert_exporter": "python",
   "pygments_lexer": "ipython3",
   "version": "3.7.3"
  }
 },
 "nbformat": 4,
 "nbformat_minor": 2
}
