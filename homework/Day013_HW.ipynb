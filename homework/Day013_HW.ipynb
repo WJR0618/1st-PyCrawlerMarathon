{
 "cells": [
  {
   "cell_type": "markdown",
   "metadata": {},
   "source": [
    "# PTT 網路爬蟲實作練習\n",
    "\n",
    "\n",
    "* 能夠利用 Request + BeatifulSour 撰寫爬蟲，並存放到合適的資料結構\n"
   ]
  },
  {
   "cell_type": "markdown",
   "metadata": {},
   "source": [
    "## 作業目標\n",
    "\n",
    "根據範例 ，完成以下問題：\n",
    "\n",
    "* ① 印出最新文章的「作者」「標題」「時間」\n",
    "* ② 印出第一頁所有文章的「作者」「標題」「時間」\n"
   ]
  },
  {
   "cell_type": "markdown",
   "metadata": {},
   "source": [
    "### ① 印出最新文章的「作者」「標題」「時間」"
   ]
  },
  {
   "cell_type": "code",
   "execution_count": 13,
   "metadata": {},
   "outputs": [
    {
     "name": "stdout",
     "output_type": "stream",
     "text": [
      "[情報] Marcin Gortat 正式宣布退休\n",
      "作者: thnlkj0665 (灰色地帶)  時間: Mon Feb 17 14:28:52 2020\n"
     ]
    }
   ],
   "source": [
    "import requests\n",
    "from bs4 import BeautifulSoup\n",
    "\n",
    "url = 'https://www.ptt.cc/bbs/NBA/index.html'\n",
    "r = requests.get(url)\n",
    "soup = BeautifulSoup(r.text, \"html5lib\")\n",
    "\n",
    "for d in soup.find_all(class_=\"title\"):\n",
    "    try:\n",
    "        r = BeautifulSoup(requests.get('https://www.ptt.cc'+d.find('a')['href']).text, \"html5lib\")\n",
    "        print(d.text.replace('\\t', '').replace('\\n', ''))\n",
    "        print('作者: ' + r.find(class_='article-meta-value').text + '  時間: ' + r.find_all(class_='article-meta-value')[-1].text)\n",
    "        break\n",
    "    except:\n",
    "        pass"
   ]
  },
  {
   "cell_type": "markdown",
   "metadata": {},
   "source": [
    "### ② 印出第一頁所有文章的「作者」「標題」「時間」"
   ]
  },
  {
   "cell_type": "code",
   "execution_count": 14,
   "metadata": {},
   "outputs": [
    {
     "name": "stdout",
     "output_type": "stream",
     "text": [
      "(本文已被刪除) [seabox]\n",
      "[情報] Marcin Gortat 正式宣布退休\n",
      "作者: thnlkj0665 (灰色地帶)  時間: Mon Feb 17 14:28:52 2020\n",
      "[情報] 哈登本賽季低位限制對手命中率26%\n",
      "作者: MrDK (DK)  時間: Mon Feb 17 14:33:27 2020\n",
      "Re: [討論] 字母哥選秀亂選是不是本屆最大敗筆\n",
      "作者: love1500274 (CoWuCoWu)  時間: Mon Feb 17 14:45:30 2020\n",
      "[討論] 巔峰瓜跟巔峰KD你選誰\n",
      "作者: nocturne ( )  時間: Mon Feb 17 14:51:16 2020\n",
      "[情報] LBJ最後一攻戰術佈置給可愛的，傳AD不在\n",
      "作者: ericgary (艾瑞克蓋瑞)  時間: Mon Feb 17 14:55:49 2020\n",
      "[討論] 今年明星賽的比數\n",
      "作者: wonderboy (wonderboy)  時間: Mon Feb 17 15:00:09 2020\n",
      "[討論] KT是不是史上手感瘋起來最強的球員\n",
      "作者: yata4547 (yata)  時間: Mon Feb 17 15:27:12 2020\n",
      "[新聞] 361度(01361)簽約NBA球星阿隆戈登成為品\n",
      "作者: maniac628 (心)  時間: Mon Feb 17 15:33:41 2020\n",
      "[討論] 蘿莉這兩球真的進攻犯規？\n",
      "作者: nikesb (耐吉滑板)  時間: Mon Feb 17 15:34:04 2020\n",
      "(已被Vedan刪除) <hanky0301>1-4\n",
      "[花邊] 3000位脫衣舞孃到本次NBA明星賽的芝加哥\n",
      "作者: pneumo (超☆冒險蓋)  時間: Mon Feb 17 16:03:00 2020\n",
      "(已被Vedan刪除) <a221657947>1-4 如果文\n",
      "[討論] Wade 會不會後悔作票挺小老弟 ?\n",
      "作者: BestFisher (BestFisher)  時間: Mon Feb 17 16:28:34 2020\n",
      "(本文已被刪除) [manuginobii]\n",
      "(本文已被刪除) [hass231470]\n",
      "[討論] 想出這個比賽方式的人\n",
      "作者: inateriver (我是尼亞)  時間: Mon Feb 17 16:45:23 2020\n",
      "[公告] 板規v6.8\n",
      "[公告] 樂透取消及未來不再開啟樂透\n",
      "作者: Vedan (味丹)  時間: Mon Jun 24 15:08:02 2019\n",
      "[公告] 版主上任相關事項 \n",
      "作者: qazwsx879345 (Rajon Rondo)  時間: Fri Oct 25 10:44:03 2019\n",
      "[情報] SEASON Schedule 賽程 February 19–20\n",
      "作者: Acetoxy (阿斯)  時間: Fri Jan 31 22:36:43 2020\n"
     ]
    }
   ],
   "source": [
    "for d in soup.find_all(class_=\"title\"):\n",
    "    print(d.text.replace('\\t', '').replace('\\n', ''))\n",
    "    try:\n",
    "        r = BeautifulSoup(requests.get('https://www.ptt.cc'+d.find('a')['href']).text, \"html5lib\")\n",
    "        print('作者: ' + r.find(class_='article-meta-value').text + '  時間: ' + r.find_all(class_='article-meta-value')[-1].text)\n",
    "    except:\n",
    "        continue"
   ]
  },
  {
   "cell_type": "markdown",
   "metadata": {},
   "source": [
    "### ③ 試著爬爬看其他版的文章"
   ]
  },
  {
   "cell_type": "code",
   "execution_count": 15,
   "metadata": {},
   "outputs": [
    {
     "name": "stdout",
     "output_type": "stream",
     "text": [
      "[討論] 今晚疾管署記者會21:30舉行，會重大宣布？\n",
      "作者: joanzkow (星浪)  時間: Mon Feb 17 16:57:14 2020\n",
      "[新聞] 鑽石公主號再增99例確診！70人無症狀　  \n",
      "作者: Axwell (Axwell)  時間: Mon Feb 17 16:58:39 2020\n",
      "(本文已被刪除) [nikeidman]\n",
      "Re: [新聞] 鑽石公主號再增99例確診！70人無症狀　  \n",
      "作者: Tosca ( )  時間: Mon Feb 17 17:34:29 2020\n",
      "[問題] 無症狀感染者跟潛伏期 兩者是同一件事嗎?\n",
      "作者: bluegold (丸少)  時間: Mon Feb 17 17:36:06 2020\n",
      "[情報] 武漢肺炎台灣及全球病例即時戰情儀表版\n",
      "作者: coffee777 (小賴)  時間: Sun Jan 26 10:25:38 2020\n",
      "[情報] 2019-nCoV 整理筆記分享\n",
      "作者: tw00537414 (累)  時間: Sun Jan 26 18:04:22 2020\n",
      "[情報] 2/17 17:00 107|26國436/+郵輪890|台20本4\n",
      "[情報] 2/15 19:00 衛生所藥局領口罩懶人包V2.41\n",
      "[公告] 板規更新（新增推文規範、政治引戰罰則）\n",
      "作者: WineVault (知客僧)  時間: Fri Feb  7 13:43:05 2020\n"
     ]
    }
   ],
   "source": [
    "url = 'https://www.ptt.cc/bbs/nCoV2019/index.html'\n",
    "r = requests.get(url)\n",
    "soup = BeautifulSoup(r.text, \"html5lib\")\n",
    "\n",
    "for d in soup.find_all(class_=\"title\"):\n",
    "    print(d.text.replace('\\t', '').replace('\\n', ''))\n",
    "    try:\n",
    "        r = BeautifulSoup(requests.get('https://www.ptt.cc'+d.find('a')['href']).text, \"html5lib\")\n",
    "        print('作者: ' + r.find(class_='article-meta-value').text + '  時間: ' + r.find_all(class_='article-meta-value')[-1].text)\n",
    "    except:\n",
    "        continue"
   ]
  }
 ],
 "metadata": {
  "kernelspec": {
   "display_name": "Python 3",
   "language": "python",
   "name": "python3"
  },
  "language_info": {
   "codemirror_mode": {
    "name": "ipython",
    "version": 3
   },
   "file_extension": ".py",
   "mimetype": "text/x-python",
   "name": "python",
   "nbconvert_exporter": "python",
   "pygments_lexer": "ipython3",
   "version": "3.7.3"
  }
 },
 "nbformat": 4,
 "nbformat_minor": 2
}
